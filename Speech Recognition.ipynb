{
 "cells": [
  {
   "cell_type": "code",
   "execution_count": null,
   "metadata": {
    "collapsed": true
   },
   "outputs": [],
   "source": [
    "#ffmpeg -i dialog1.wav -f segment -segment_time 30 -c copy parts/out%09d.wav"
   ]
  },
  {
   "cell_type": "code",
   "execution_count": 13,
   "metadata": {
    "collapsed": true
   },
   "outputs": [],
   "source": [
    "import os\n",
    "os.environ[\"GOOGLE_APPLICATION_CREDENTIALS\"]=\"../Audio-to-speech-aa00874e061f.json\""
   ]
  },
  {
   "cell_type": "markdown",
   "metadata": {},
   "source": [
    "### Requires\n",
    "1. Sampling Rate : 16000 \n",
    "2. Channels : Mono\n",
    "3. Type : Wav\n",
    "4. Not more that 1 min (30 second to be safe)"
   ]
  },
  {
   "cell_type": "code",
   "execution_count": 40,
   "metadata": {},
   "outputs": [
    {
     "name": "stdout",
     "output_type": "stream",
     "text": [
      "Waiting for operation to complete...\n",
      "Done\n"
     ]
    }
   ],
   "source": [
    "from google.cloud import speech_v1p1beta1 as speech\n",
    "client = speech.SpeechClient()\n",
    "\n",
    "speech_file = 'parts/out000000001.wav'\n",
    "\n",
    "with open(speech_file, 'rb') as audio_file:\n",
    "    content = audio_file.read()\n",
    "\n",
    "audio = speech.types.RecognitionAudio(content=content)\n",
    "\n",
    "config = speech.types.RecognitionConfig(\n",
    "    encoding=speech.enums.RecognitionConfig.AudioEncoding.LINEAR16,\n",
    "    sample_rate_hertz=16000,\n",
    "    language_code='en-US',\n",
    "    enable_speaker_diarization=True,\n",
    "    diarization_speaker_count=2)\n",
    "\n",
    "print('Waiting for operation to complete...')\n",
    "response = client.recognize(config, audio)\n",
    "\n",
    "# The transcript within each result is separate and sequential per result.\n",
    "# However, the words list within an alternative includes all the words\n",
    "# from all the results thus far. Thus, to get all the words with speaker\n",
    "# tags, you only have to take the words list from the last result:\n",
    "result = response.results[-1]\n",
    "\n",
    "words_info = result.alternatives[0].words\n",
    "\n",
    "conversation = list()\n",
    "current = words_info[0].speaker_tag\n",
    "# Printing out the output:\n",
    "ongoing = {words_info[0].speaker_tag:[]}\n",
    "for word_info in words_info:\n",
    "    #print(\"word: '{}', speaker_tag: {}\".format(word_info.word,word_info.speaker_tag))\n",
    "    if word_info.speaker_tag != current:\n",
    "        conversation.append(ongoing)\n",
    "        ongoing = { word_info.speaker_tag :[] }\n",
    "        current = word_info.speaker_tag\n",
    "        ongoing[word_info.speaker_tag].append(word_info.word)\n",
    "    else:\n",
    "        ongoing[word_info.speaker_tag].append(word_info.word)\n",
    "conversation.append(ongoing)\n",
    "print('Done')"
   ]
  },
  {
   "cell_type": "code",
   "execution_count": 41,
   "metadata": {
    "scrolled": true
   },
   "outputs": [
    {
     "name": "stdout",
     "output_type": "stream",
     "text": [
      "Speaker 2 : yes I think so that's probably an Wallace wow not long would you live\n",
      "Speaker 1 : well I'm staying at the YMCA at the moment I'm looking for someone. Do you know of any good places\n",
      "Speaker 2 : has a spare room in her apartment and she's looking for a flatmate phone number\n"
     ]
    }
   ],
   "source": [
    "for converse in conversation:\n",
    "    print( \"Speaker {} : {}\".format( list(converse.keys())[0], \" \".join(converse[list(converse.keys())[0]]) ) )"
   ]
  },
  {
   "cell_type": "code",
   "execution_count": null,
   "metadata": {
    "collapsed": true
   },
   "outputs": [],
   "source": []
  },
  {
   "cell_type": "code",
   "execution_count": null,
   "metadata": {
    "collapsed": true
   },
   "outputs": [],
   "source": []
  },
  {
   "cell_type": "code",
   "execution_count": null,
   "metadata": {
    "collapsed": true
   },
   "outputs": [],
   "source": []
  },
  {
   "cell_type": "code",
   "execution_count": null,
   "metadata": {
    "collapsed": true
   },
   "outputs": [],
   "source": [
    "import os\n",
    "import speech_recognition as sr\n",
    "from tqdm import tqdm\n",
    "\n",
    "with open(\"Audio-to-speech-aa00874e061f.json\") as f:\n",
    "    GOOGLE_CLOUD_SPEECH_CREDENTIALS = f.read()\n",
    "    \n",
    "r = sr.Recognizer()\n",
    "files = sorted(os.listdir('parts/'))all_text = []\n",
    "\n",
    "for f in tqdm(files):\n",
    "    name = \"parts/\" + f\n",
    "    # Load audio file\n",
    "    with sr.AudioFile(name) as source:\n",
    "        audio = r.record(source)\n",
    "    # Transcribe audio file\n",
    "    text = r.recognize_google_cloud(audio, credentials_json=GOOGLE_CLOUD_SPEECH_CREDENTIALS)\n",
    "    all_text.append(text)"
   ]
  },
  {
   "cell_type": "code",
   "execution_count": null,
   "metadata": {
    "collapsed": true
   },
   "outputs": [],
   "source": []
  }
 ],
 "metadata": {
  "kernelspec": {
   "display_name": "Python 3",
   "language": "python",
   "name": "python3"
  },
  "language_info": {
   "codemirror_mode": {
    "name": "ipython",
    "version": 3
   },
   "file_extension": ".py",
   "mimetype": "text/x-python",
   "name": "python",
   "nbconvert_exporter": "python",
   "pygments_lexer": "ipython3",
   "version": "3.6.3"
  }
 },
 "nbformat": 4,
 "nbformat_minor": 2
}
